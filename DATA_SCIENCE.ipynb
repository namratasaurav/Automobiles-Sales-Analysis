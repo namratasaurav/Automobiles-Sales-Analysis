{
 "cells": [
  {
   "cell_type": "markdown",
   "id": "446f1af1-2fec-4550-ab04-7bf8c8a3e53c",
   "metadata": {},
   "source": [
    "# Data Science Tools and Ecosystem"
   ]
  },
  {
   "cell_type": "markdown",
   "id": "665a6349-3f6d-490e-9e46-03a09e78c6ff",
   "metadata": {},
   "source": [
    "# Data Science Languages\n",
    "\n",
    "- Python\n",
    "- R\n",
    "- SQL\n",
    "- Julia\n",
    "- Scala\n",
    "- MATLAB"
   ]
  },
  {
   "cell_type": "markdown",
   "id": "ba95aacf-d74b-4935-9f3c-81509ea9201f",
   "metadata": {},
   "source": [
    "# Data Science Libraries\n",
    "1. NumPy\n",
    "2. Pandas\n",
    "3. Matplotlib\n",
    "4. Seaborn\n",
    "5. Scikit-learn\n",
    "6. TensorFlow\n",
    "7. PyTorch"
   ]
  },
  {
   "cell_type": "code",
   "execution_count": null,
   "id": "778324c2-7918-48aa-8d74-abc679b45d84",
   "metadata": {},
   "outputs": [],
   "source": []
  },
  {
   "attachments": {},
   "cell_type": "markdown",
   "id": "4ecc678e-fefa-4c52-adc7-33bdb8a52c25",
   "metadata": {},
   "source": [
    "# Data Science Tools\n",
    "\n",
    "| Category                  | Tools / Libraries                  |\n",
    "|----------------------------|-----------------------------------|\n",
    "| Programming Languages      | Python, R, SQL, Julia             |\n",
    "| Development & Notebook Tools | Jupyter Notebook, RStudio, Google Colab |\n",
    "| Data Visualization Tools   | Tableau, Power BI, Matplotlib, Seaborn |\n",
    "| Big Data & Cloud Tools     | Hadoop, Spark, AWS, Google Cloud  |\n",
    "| Machine Learning / AI      | Scikit-learn, TensorFlow, PyTorch |"
   ]
  },
  {
   "cell_type": "markdown",
   "id": "086a212d-9c81-4f37-b064-e8927b297851",
   "metadata": {},
   "source": [
    "# Arithmetic Expression Examples\n",
    "# Addition, Subtraction\n",
    "a = 10\n",
    "b = 5\n",
    "\n",
    "print(\"Addition:\", a + b)        # 10 + 5 = 15\n",
    "print(\"Subtraction:\", a - b)     # 10 - 5 = 5"
   ]
  },
  {
   "cell_type": "code",
   "execution_count": null,
   "id": "dc8fe54e-b124-4bc1-ab8e-dcbe110424e5",
   "metadata": {},
   "outputs": [],
   "source": []
  },
  {
   "cell_type": "code",
   "execution_count": 2,
   "id": "b69c9392-a6ba-4184-8a1f-290364326ec3",
   "metadata": {},
   "outputs": [
    {
     "name": "stdout",
     "output_type": "stream",
     "text": [
      "Multiplication result: 50\n",
      "Addition result: 17\n"
     ]
    }
   ],
   "source": [
    "# Multiply and add numbers\n",
    "a = 5\n",
    "b = 10\n",
    "c = 2\n",
    "\n",
    "# Multiplication\n",
    "multiply_result = a * b\n",
    "\n",
    "# Addition\n",
    "add_result = a + b + c\n",
    "\n",
    "print(\"Multiplication result:\", multiply_result)\n",
    "print(\"Addition result:\", add_result)"
   ]
  },
  {
   "cell_type": "code",
   "execution_count": 3,
   "id": "5304b31d-ce3a-455a-9572-d16c47916954",
   "metadata": {},
   "outputs": [
    {
     "name": "stdout",
     "output_type": "stream",
     "text": [
      "150 minutes is equal to 2.5 hours.\n"
     ]
    }
   ],
   "source": [
    "# Convert minutes to hours\n",
    "minutes = 150\n",
    "\n",
    "hours = minutes / 60\n",
    "\n",
    "print(f\"{minutes} minutes is equal to {hours} hours.\")"
   ]
  },
  {
   "cell_type": "markdown",
   "id": "7af9de40-1f5e-4322-a059-919e46080c57",
   "metadata": {},
   "source": [
    "# Objectives of Data Science\n",
    "\n",
    "This notebook lists the main objectives of Data Science:\n",
    "\n",
    "- Extract meaningful insights from data\n",
    "- Make data-driven decisions\n",
    "- Improve business processes\n",
    "- Predict future trends\n",
    "- Automate tasks using machine learning"
   ]
  },
  {
   "cell_type": "markdown",
   "id": "0596966e-6658-489c-bd09-b425d8121e13",
   "metadata": {},
   "source": [
    "# Author Details\n",
    "\n",
    "**Name:** Namrata Saurav\n",
    "**Course:** Tools for Data Science (Coursera)\n",
    "**Date:** 26-Sep-2025"
   ]
  },
  {
   "cell_type": "code",
   "execution_count": null,
   "id": "8c3e53aa-2221-482f-a0ce-cb0e99e1a32e",
   "metadata": {},
   "outputs": [],
   "source": []
  }
 ],
 "metadata": {
  "kernelspec": {
   "display_name": "Python 3 (ipykernel)",
   "language": "python",
   "name": "python3"
  },
  "language_info": {
   "codemirror_mode": {
    "name": "ipython",
    "version": 3
   },
   "file_extension": ".py",
   "mimetype": "text/x-python",
   "name": "python",
   "nbconvert_exporter": "python",
   "pygments_lexer": "ipython3",
   "version": "3.13.5"
  }
 },
 "nbformat": 4,
 "nbformat_minor": 5
}
